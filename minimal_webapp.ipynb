{
 "cells": [
  {
   "cell_type": "code",
   "execution_count": 1,
   "metadata": {},
   "outputs": [],
   "source": [
    "import seaborn as sns\n",
    "import numpy as np\n",
    "import pandas as pd\n",
    "import ipywidgets as ipw\n",
    "\n",
    "import calendar"
   ]
  },
  {
   "cell_type": "markdown",
   "metadata": {},
   "source": [
    "## Interactive web-app example"
   ]
  },
  {
   "cell_type": "markdown",
   "metadata": {},
   "source": [
    "We are using here Jupyter in combination with [Voilà](https://github.com/QuantStack/voila) to turn a Notebook into an interactive web-app."
   ]
  },
  {
   "cell_type": "code",
   "execution_count": 19,
   "metadata": {},
   "outputs": [],
   "source": [
    "zenodo_address = 'https://zenodo.org/record/1213207/files/Geneva_Eur11_TDY_2010_2039.txt'"
   ]
  },
  {
   "cell_type": "code",
   "execution_count": 86,
   "metadata": {},
   "outputs": [],
   "source": [
    "data = pd.read_csv(zenodo_address,sep='\\s+', skiprows = [0,1,2])\n",
    "month_dict = {key+1: value for (key, value) in enumerate(list(calendar.month_name[1::]))}\n",
    "data['Month'] = data.dm.apply(lambda x: month_dict[int(x)])"
   ]
  },
  {
   "cell_type": "code",
   "execution_count": 94,
   "metadata": {},
   "outputs": [],
   "source": [
    "data_group = data.groupby('Month')"
   ]
  },
  {
   "cell_type": "code",
   "execution_count": 96,
   "metadata": {},
   "outputs": [],
   "source": [
    "def temp_curve(month):\n",
    "    g = sns.pointplot(data = pd.concat([data_group.get_group(x) for x in month]), \n",
    "                      x = 'h', y = 'Ta', hue='Month')\n",
    "    g.set_ylim([0,35])\n",
    "    g.set_xlabel('Hour')\n",
    "    g.set_ylabel('Air temperature')"
   ]
  },
  {
   "cell_type": "code",
   "execution_count": 93,
   "metadata": {},
   "outputs": [
    {
     "data": {
      "application/vnd.jupyter.widget-view+json": {
       "model_id": "760c19ed676a4270b5aea95d755613f9",
       "version_major": 2,
       "version_minor": 0
      },
      "text/plain": [
       "interactive(children=(SelectMultiple(description='month', index=(0,), options=('January', 'February', 'March',…"
      ]
     },
     "metadata": {},
     "output_type": "display_data"
    }
   ],
   "source": [
    "ipw.interact(temp_curve, month =ipw.SelectMultiple(value =['January'],options = list(calendar.month_name[1::])));\n"
   ]
  }
 ],
 "metadata": {
  "kernelspec": {
   "display_name": "Python 3",
   "language": "python",
   "name": "python3"
  },
  "language_info": {
   "codemirror_mode": {
    "name": "ipython",
    "version": 3
   },
   "file_extension": ".py",
   "mimetype": "text/x-python",
   "name": "python",
   "nbconvert_exporter": "python",
   "pygments_lexer": "ipython3",
   "version": "3.7.3"
  },
  "toc": {
   "base_numbering": 1,
   "nav_menu": {},
   "number_sections": false,
   "sideBar": true,
   "skip_h1_title": false,
   "title_cell": "Table of Contents",
   "title_sidebar": "Contents",
   "toc_cell": false,
   "toc_position": {},
   "toc_section_display": true,
   "toc_window_display": true
  }
 },
 "nbformat": 4,
 "nbformat_minor": 4
}
